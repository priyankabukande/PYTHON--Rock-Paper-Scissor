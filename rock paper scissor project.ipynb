{
 "cells": [
  {
   "cell_type": "code",
   "execution_count": 19,
   "id": "f69c59cc",
   "metadata": {},
   "outputs": [
    {
     "name": "stdout",
     "output_type": "stream",
     "text": [
      "WELCOME TO ROCK PAPER SCISSOR GAME\n",
      "-----------------------------------------------------\n",
      "Enter 1 to play 0 to Exit\n",
      "1\n",
      "SELECT YOUR CHOICE rock paper scissor\n",
      "paper\n",
      "computer move is paper\n",
      "Result= TIE \n",
      "-----------------------------------------------------\n",
      "Enter 1 to play 0 to Exit\n",
      "1\n",
      "SELECT YOUR CHOICE rock paper scissor\n",
      "paper\n",
      "computer move is paper\n",
      "Result= TIE \n",
      "-----------------------------------------------------\n",
      "Enter 1 to play 0 to Exit\n",
      "1\n",
      "SELECT YOUR CHOICE rock paper scissor\n",
      "scissor\n",
      "computer move is scissor\n",
      "Result= TIE\n",
      "-----------------------------------------------------\n",
      "Enter 1 to play 0 to Exit\n",
      "0\n",
      "thanks for playing\n"
     ]
    }
   ],
   "source": [
    "from random import randint\n",
    " \n",
    "print(\"WELCOME TO ROCK PAPER SCISSOR GAME\")\n",
    "player=False\n",
    "while player==False:\n",
    "    print(\"-----------------------------------------------------\")\n",
    "    print(\"Enter 1 to play 0 to Exit\")\n",
    "    c=int(input())\n",
    "    y =randint(0,2)\n",
    "    if (c==0):\n",
    "        print(\"thanks for playing\")\n",
    "        break\n",
    "    elif (c==1):\n",
    "        print(\"SELECT YOUR CHOICE rock paper scissor\")\n",
    "        x=str(input())\n",
    "        if y==0:\n",
    "            print(\"computer move is rock\")\n",
    "        elif y==1:\n",
    "            print(\"computer move is paper\")\n",
    "        elif y==2:\n",
    "            print(\"computer move is scissor\")\n",
    "        if (x==\"rock\" and y==0):\n",
    "            print(\"Result= TIE\")\n",
    "        elif (x==\"rock\" and y==1):\n",
    "            print(\"Result= CPU WON \")\n",
    "        elif (x==\"rock\" and y==2):\n",
    "            print(\"Result= YOU WON\")\n",
    "        elif (x==\"paper\" and y==0):\n",
    "            print(\"Result= YOU WON\")\n",
    "        elif (x==\"paper\" and y==1):\n",
    "            print(\"Result= TIE \")\n",
    "        elif (x==\"paper\" and y==2):\n",
    "            print(\"Result= CPU WON\")\n",
    "        elif (x==\"scissor\" and y==0):\n",
    "            print(\"Result= CPU WON\")\n",
    "        elif (x==\"scissor\" and y==1):\n",
    "            print(\"Result= YOU WON \")\n",
    "        elif (x==\"scissor\" and y==2):\n",
    "            print(\"Result= TIE\")\n",
    "        else:\n",
    "            print(\"That's not a valid play. Check your spelling!\")\n",
    "            player = False\n",
    "            y =randint(0,2)\n",
    "                    \n",
    "                    \n",
    "    else:\n",
    "        print(\"Error\")"
   ]
  },
  {
   "cell_type": "code",
   "execution_count": null,
   "id": "cf262596",
   "metadata": {},
   "outputs": [],
   "source": []
  }
 ],
 "metadata": {
  "kernelspec": {
   "display_name": "Python 3 (ipykernel)",
   "language": "python",
   "name": "python3"
  },
  "language_info": {
   "codemirror_mode": {
    "name": "ipython",
    "version": 3
   },
   "file_extension": ".py",
   "mimetype": "text/x-python",
   "name": "python",
   "nbconvert_exporter": "python",
   "pygments_lexer": "ipython3",
   "version": "3.9.12"
  }
 },
 "nbformat": 4,
 "nbformat_minor": 5
}
